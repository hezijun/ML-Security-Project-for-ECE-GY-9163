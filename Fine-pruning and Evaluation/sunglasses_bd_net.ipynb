{
  "nbformat": 4,
  "nbformat_minor": 0,
  "metadata": {
    "colab": {
      "name": "project.ipynb",
      "provenance": [],
      "collapsed_sections": []
    },
    "kernelspec": {
      "name": "python3",
      "display_name": "Python 3"
    }
  },
  "cells": [
    {
      "cell_type": "markdown",
      "metadata": {
        "id": "y4Kr5me1lAZX"
      },
      "source": [
        "# Load Model"
      ]
    },
    {
      "cell_type": "code",
      "metadata": {
        "colab": {
          "base_uri": "https://localhost:8080/"
        },
        "id": "WSzCWmID6VYH",
        "outputId": "a3c35d20-af9a-41b2-8b1d-1e226c2ea5d9"
      },
      "source": [
        "import h5py\r\n",
        "from keras.models import load_model\r\n",
        "\r\n",
        "print('loading the model...')\r\n",
        "sunglasses_bd_net = load_model('/content/sunglasses_bd_net.h5')\r\n",
        "sunglasses_bd_net.load_weights('/content/sunglasses_bd_weights.h5')\r\n",
        "multi_trigger_multi_target_bd_net = load_model('/content/multi_trigger_multi_target_bd_net.h5')\r\n",
        "multi_trigger_multi_target_bd_net.load_weights('/content/multi_trigger_multi_target_bd_weights.h5')\r\n",
        "anonymous_1_bd_net = load_model('/content/anonymous_1_bd_net.h5')\r\n",
        "anonymous_1_bd_net.load_weights('/content/anonymous_1_bd_weights.h5')\r\n",
        "anonymous_2_bd_net = load_model('/content/anonymous_2_bd_net.h5')\r\n",
        "anonymous_2_bd_net.load_weights('/content/anonymous_2_bd_weights.h5')\r\n",
        "\r\n",
        "sunglasses_bd_net.summary()"
      ],
      "execution_count": 113,
      "outputs": [
        {
          "output_type": "stream",
          "text": [
            "loading the model...\n",
            "Model: \"model_1\"\n",
            "__________________________________________________________________________________________________\n",
            "Layer (type)                    Output Shape         Param #     Connected to                     \n",
            "==================================================================================================\n",
            "input (InputLayer)              [(None, 55, 47, 3)]  0                                            \n",
            "__________________________________________________________________________________________________\n",
            "conv_1 (Conv2D)                 (None, 52, 44, 20)   980         input[0][0]                      \n",
            "__________________________________________________________________________________________________\n",
            "pool_1 (MaxPooling2D)           (None, 26, 22, 20)   0           conv_1[0][0]                     \n",
            "__________________________________________________________________________________________________\n",
            "conv_2 (Conv2D)                 (None, 24, 20, 40)   7240        pool_1[0][0]                     \n",
            "__________________________________________________________________________________________________\n",
            "pool_2 (MaxPooling2D)           (None, 12, 10, 40)   0           conv_2[0][0]                     \n",
            "__________________________________________________________________________________________________\n",
            "conv_3 (Conv2D)                 (None, 10, 8, 60)    21660       pool_2[0][0]                     \n",
            "__________________________________________________________________________________________________\n",
            "pool_3 (MaxPooling2D)           (None, 5, 4, 60)     0           conv_3[0][0]                     \n",
            "__________________________________________________________________________________________________\n",
            "conv_4 (Conv2D)                 (None, 4, 3, 80)     19280       pool_3[0][0]                     \n",
            "__________________________________________________________________________________________________\n",
            "flatten_1 (Flatten)             (None, 1200)         0           pool_3[0][0]                     \n",
            "__________________________________________________________________________________________________\n",
            "flatten_2 (Flatten)             (None, 960)          0           conv_4[0][0]                     \n",
            "__________________________________________________________________________________________________\n",
            "fc_1 (Dense)                    (None, 160)          192160      flatten_1[0][0]                  \n",
            "__________________________________________________________________________________________________\n",
            "fc_2 (Dense)                    (None, 160)          153760      flatten_2[0][0]                  \n",
            "__________________________________________________________________________________________________\n",
            "add_1 (Add)                     (None, 160)          0           fc_1[0][0]                       \n",
            "                                                                 fc_2[0][0]                       \n",
            "__________________________________________________________________________________________________\n",
            "activation_1 (Activation)       (None, 160)          0           add_1[0][0]                      \n",
            "__________________________________________________________________________________________________\n",
            "output (Dense)                  (None, 1283)         206563      activation_1[0][0]               \n",
            "==================================================================================================\n",
            "Total params: 601,643\n",
            "Trainable params: 601,643\n",
            "Non-trainable params: 0\n",
            "__________________________________________________________________________________________________\n"
          ],
          "name": "stdout"
        }
      ]
    },
    {
      "cell_type": "markdown",
      "metadata": {
        "id": "0SCYR9Djmi_o"
      },
      "source": [
        "# Choosing bad net model and corresponding testing data"
      ]
    },
    {
      "cell_type": "code",
      "metadata": {
        "id": "y_-R1rBdq640"
      },
      "source": [
        "bd_net = sunglasses_bd_net\r\n",
        "cut_num = 25\r\n",
        "fit_epoch = 10\r\n",
        "#poisoned_data_file_path = '/content/Multi_trigger_file/sunglasses_poisoned_data.h5'\r\n",
        "poisoned_data_file_path = '/content/sunglasses_poisoned_data.h5'\r\n",
        "test_data = '/content/clean_test_data.h5'\r\n",
        "train_data = '/content/clean_validation_data.h5'"
      ],
      "execution_count": 114,
      "outputs": []
    },
    {
      "cell_type": "markdown",
      "metadata": {
        "id": "VFC0EtLSnyQa"
      },
      "source": [
        "# Bad net proformance on clean data "
      ]
    },
    {
      "cell_type": "code",
      "metadata": {
        "colab": {
          "base_uri": "https://localhost:8080/"
        },
        "id": "35L9Es0yF5JN",
        "outputId": "1710f296-2465-4989-808c-2454d81073ea"
      },
      "source": [
        "import keras\r\n",
        "import keras.backend as K\r\n",
        "from keras import initializers\r\n",
        "import numpy as np\r\n",
        "import tensorflow as tf\r\n",
        "\r\n",
        "def data_loader(filepath):\r\n",
        "  data = h5py.File(filepath)\r\n",
        "  x_data = np.array(data['data'])\r\n",
        "  y_data = np.array(data['label'])\r\n",
        "  x_data = x_data.transpose((0,2,3,1))\r\n",
        "\r\n",
        "  return x_data, y_data\r\n",
        "\r\n",
        "def data_process(x_data):\r\n",
        "  return x_data/255\r\n",
        "\r\n",
        "\r\n",
        "x_data, y_data = data_loader(train_data)\r\n",
        "x_data = data_process(x_data)\r\n",
        "\r\n",
        "clean_label_p = np.argmax(bd_net.predict(x_data), axis=1)\r\n",
        "class_accu = np.mean(np.equal(clean_label_p, y_data))*100\r\n",
        "print('Classification accuracy:', class_accu)\r\n"
      ],
      "execution_count": 115,
      "outputs": [
        {
          "output_type": "stream",
          "text": [
            "/usr/local/lib/python3.6/dist-packages/ipykernel_launcher.py:8: H5pyDeprecationWarning: The default file mode will change to 'r' (read-only) in h5py 3.0. To suppress this warning, pass the mode you need to h5py.File(), or set the global default h5.get_config().default_file_mode, or set the environment variable H5PY_DEFAULT_READONLY=1. Available modes are: 'r', 'r+', 'w', 'w-'/'x', 'a'. See the docs for details.\n",
            "  \n"
          ],
          "name": "stderr"
        },
        {
          "output_type": "stream",
          "text": [
            "Classification accuracy: 97.88689702953148\n"
          ],
          "name": "stdout"
        }
      ]
    },
    {
      "cell_type": "markdown",
      "metadata": {
        "id": "X241rdIhoH9k"
      },
      "source": [
        "# Get the increasing order of average activations of neurons in the final convolutional layer of the face recognition network"
      ]
    },
    {
      "cell_type": "code",
      "metadata": {
        "id": "TrLamMYuK-Ca"
      },
      "source": [
        "layer = bd_net.get_layer('pool_3')\r\n",
        "keras_function = K.function([bd_net.input], [layer.output])\r\n",
        "layer_outs = keras_function([x_data])\r\n",
        "out = np.array(layer_outs)\r\n",
        "out.shape\r\n",
        "activation = np.mean(out, axis=(0,1,2,3))\r\n"
      ],
      "execution_count": 116,
      "outputs": []
    },
    {
      "cell_type": "markdown",
      "metadata": {
        "id": "HxzsUP0_o4UN"
      },
      "source": [
        "# Creating pruning position list for later using"
      ]
    },
    {
      "cell_type": "code",
      "metadata": {
        "colab": {
          "base_uri": "https://localhost:8080/"
        },
        "id": "gBBcQ56_a5iq",
        "outputId": "650c6363-b32b-4b23-f5ad-6432fe4ff952"
      },
      "source": [
        "pruning_position = np.ones(conv3_num, dtype=bool)\r\n",
        "ascending = np.argsort(activation)\r\n",
        "for i in range(cut_num):\r\n",
        "  index = ascending[i]\r\n",
        "  pruning_position[index] = 0\r\n",
        "\r\n",
        "pruning_position\r\n"
      ],
      "execution_count": 117,
      "outputs": [
        {
          "output_type": "execute_result",
          "data": {
            "text/plain": [
              "array([False, False, False,  True,  True,  True,  True,  True, False,\n",
              "       False,  True,  True, False, False, False,  True,  True,  True,\n",
              "        True,  True,  True,  True,  True,  True,  True,  True, False,\n",
              "        True, False,  True,  True, False, False, False, False,  True,\n",
              "       False, False,  True,  True,  True,  True, False,  True, False,\n",
              "        True,  True, False, False, False, False,  True, False,  True,\n",
              "        True,  True,  True, False, False,  True])"
            ]
          },
          "metadata": {
            "tags": []
          },
          "execution_count": 117
        }
      ]
    },
    {
      "cell_type": "markdown",
      "metadata": {
        "id": "bh3CP8m1pL7w"
      },
      "source": [
        "# Create an empty model with spcify number of neurons in final convolutional layer for receiving weight and bias of each layer after pruning"
      ]
    },
    {
      "cell_type": "code",
      "metadata": {
        "id": "h-cUQNqv3ALc"
      },
      "source": [
        "def Net():\r\n",
        "\t# define input\r\n",
        "\tx = keras.Input(shape=(55, 47, 3), name='input')\r\n",
        "\t# feature extraction\r\n",
        "\tconv_1 = keras.layers.Conv2D(20, (4, 4), activation='relu', name='conv_1')(x)\r\n",
        "\tpool_1 = keras.layers.MaxPooling2D((2, 2), name='pool_1')(conv_1)\r\n",
        "\tconv_2 = keras.layers.Conv2D(40, (3, 3), activation='relu', name='conv_2')(pool_1)\r\n",
        "\tpool_2 = keras.layers.MaxPooling2D((2, 2), name='pool_2')(conv_2)\r\n",
        "\tconv_3 = keras.layers.Conv2D((60 - cut_num), (3, 3), activation='relu', name='conv_3')(pool_2)\r\n",
        "\tpool_3 = keras.layers.MaxPooling2D((2, 2), name='pool_3')(conv_3)\r\n",
        "\t# first interpretation model\r\n",
        "\tflatten_1 = keras.layers.Flatten(name='flatten_1')(pool_3)\t\r\n",
        "\tfc_1 = keras.layers.Dense(160, name='fc_1')(flatten_1)\r\n",
        "\t# second interpretation model\r\n",
        "\tconv_4 = keras.layers.Conv2D(80, (2, 2), activation='relu', name='conv_4')(pool_3)\r\n",
        "\tflatten_2 = keras.layers.Flatten(name='flatten_2')(conv_4)\r\n",
        "\tfc_2 = keras.layers.Dense(160, name='fc_2')(flatten_2)\r\n",
        "\t# merge interpretation\r\n",
        "\tmerge = keras.layers.Add(name='add_1')([fc_1, fc_2])\r\n",
        "\tadd_1 = keras.layers.Activation(activation='relu', name='activation_1')(merge)\r\n",
        "\tdrop = keras.layers.Dropout(0.5)\r\n",
        "\t# output\r\n",
        "\ty_hat = keras.layers.Dense(1283, activation='softmax', name='output')(add_1)\r\n",
        "\tmodel = keras.Model(inputs=x, outputs=y_hat)\r\n",
        "\t# summarize layers\r\n",
        "\t#print(model.summary())\r\n",
        "\t# plot graph\r\n",
        "\t#plot_model(model, to_file='model_architecture.png')\r\n",
        "\r\n",
        "\treturn model\r\n",
        "\r\n",
        "\r\n",
        "K.clear_session()\r\n",
        "my_model = Net()"
      ],
      "execution_count": 118,
      "outputs": []
    },
    {
      "cell_type": "markdown",
      "metadata": {
        "id": "9t9mIVMYquO9"
      },
      "source": [
        "# Copy the weight to empty model and strip the weight of each layer that directly connecting with the last Pooling layer by using pruning position list"
      ]
    },
    {
      "cell_type": "code",
      "metadata": {
        "id": "VwJ0rtoSZ3aV"
      },
      "source": [
        "conv_3_weight = bd_net.get_layer('conv_3').get_weights()[0]\r\n",
        "conv_3_bias = bd_net.get_layer('conv_3').get_weights()[1]\r\n",
        "conv_4_weight = bd_net.get_layer('conv_4').get_weights()[0]\r\n",
        "conv_4_bias = bd_net.get_layer('conv_4').get_weights()[1]\r\n",
        "fc_1_weight = bd_net.get_layer('fc_1').get_weights()[0]\r\n",
        "fc_1_bias = bd_net.get_layer('fc_1').get_weights()[1]\r\n",
        "\r\n",
        "for layer in my_model.layers:\r\n",
        "  if layer.name == 'conv_3':\r\n",
        "    my_model.get_layer('conv_3').set_weights([conv_3_weight[:,:,:,pruning_position],conv_3_bias[pruning_position]])\r\n",
        "  elif layer.name == 'conv_4':\r\n",
        "    my_model.get_layer('conv_4').set_weights([conv_4_weight[:,:,pruning_position,:],conv_4_bias])\r\n",
        "  elif layer.name == 'fc_1':\r\n",
        "    my_model.get_layer('fc_1').set_weights([fc_1_weight.reshape(60,20,-1)[pruning_position,:,:].reshape((60-cut_num)*20,-1),fc_1_bias])\r\n",
        "  else:\r\n",
        "    my_model.get_layer(layer.name).set_weights(bd_net.get_layer(layer.name).get_weights())\r\n"
      ],
      "execution_count": 119,
      "outputs": []
    },
    {
      "cell_type": "markdown",
      "metadata": {
        "id": "Wne8g-tOrErY"
      },
      "source": [
        "# Fit new model with clean training data"
      ]
    },
    {
      "cell_type": "code",
      "metadata": {
        "colab": {
          "base_uri": "https://localhost:8080/"
        },
        "id": "I99IAh6LkgNm",
        "outputId": "28910a1f-adf3-43ed-e1de-0a319d280d6e"
      },
      "source": [
        "loss_fn = tf.keras.losses.SparseCategoricalCrossentropy(from_logits=True)\r\n",
        "my_model.compile(optimizer='adam',\r\n",
        "              loss=loss_fn,\r\n",
        "              metrics=['accuracy'])\r\n",
        "my_model.fit(x_data, y_data, epochs=fit_epoch)"
      ],
      "execution_count": 120,
      "outputs": [
        {
          "output_type": "stream",
          "text": [
            "Epoch 1/10\n",
            "361/361 [==============================] - 27s 75ms/step - loss: 2.5958 - accuracy: 0.5389\n",
            "Epoch 2/10\n",
            "361/361 [==============================] - 27s 75ms/step - loss: 0.3419 - accuracy: 0.9118\n",
            "Epoch 3/10\n",
            "361/361 [==============================] - 27s 74ms/step - loss: 0.2410 - accuracy: 0.9355\n",
            "Epoch 4/10\n",
            "361/361 [==============================] - 27s 75ms/step - loss: 0.1531 - accuracy: 0.9591\n",
            "Epoch 5/10\n",
            "361/361 [==============================] - 27s 75ms/step - loss: 0.1602 - accuracy: 0.9559\n",
            "Epoch 6/10\n",
            "361/361 [==============================] - 27s 74ms/step - loss: 0.1241 - accuracy: 0.9632\n",
            "Epoch 7/10\n",
            "361/361 [==============================] - 27s 74ms/step - loss: 0.1135 - accuracy: 0.9702\n",
            "Epoch 8/10\n",
            "361/361 [==============================] - 27s 74ms/step - loss: 0.1137 - accuracy: 0.9691\n",
            "Epoch 9/10\n",
            "361/361 [==============================] - 27s 74ms/step - loss: 0.0986 - accuracy: 0.9715\n",
            "Epoch 10/10\n",
            "361/361 [==============================] - 27s 74ms/step - loss: 0.1149 - accuracy: 0.9719\n"
          ],
          "name": "stdout"
        },
        {
          "output_type": "execute_result",
          "data": {
            "text/plain": [
              "<tensorflow.python.keras.callbacks.History at 0x7f0d38e79588>"
            ]
          },
          "metadata": {
            "tags": []
          },
          "execution_count": 120
        }
      ]
    },
    {
      "cell_type": "markdown",
      "metadata": {
        "id": "AxkZ1dqErQ4c"
      },
      "source": [
        "# New model performance on clean training data"
      ]
    },
    {
      "cell_type": "code",
      "metadata": {
        "colab": {
          "base_uri": "https://localhost:8080/"
        },
        "id": "S0fu1axJc41o",
        "outputId": "9bd519cd-813f-4c52-a09a-82ddf6404d05"
      },
      "source": [
        "clean_label_p = np.argmax(my_model.predict(x_data), axis=1)\r\n",
        "class_accu = np.mean(np.equal(clean_label_p, y_data))*100\r\n",
        "print('Classification accuracy:', class_accu)"
      ],
      "execution_count": 121,
      "outputs": [
        {
          "output_type": "stream",
          "text": [
            "Classification accuracy: 97.46254438382263\n"
          ],
          "name": "stdout"
        }
      ]
    },
    {
      "cell_type": "markdown",
      "metadata": {
        "id": "O9sU3MGZxVtb"
      },
      "source": [
        "# New model performance on posion data"
      ]
    },
    {
      "cell_type": "code",
      "metadata": {
        "colab": {
          "base_uri": "https://localhost:8080/"
        },
        "id": "8bOLRZZRuU1K",
        "outputId": "0ddb319e-f888-4a0c-b903-e05fdd10f7eb"
      },
      "source": [
        "x_posion_data, y_posion_data = data_loader(poisoned_data_file_path)\r\n",
        "x_posion_data = data_process(x_posion_data)\r\n",
        "\r\n",
        "clean_label_p = np.argmax(my_model.predict(x_posion_data), axis=1)\r\n",
        "class_accu = np.mean(np.equal(clean_label_p, y_posion_data))*100\r\n",
        "print('Classification accuracy:', class_accu)"
      ],
      "execution_count": 122,
      "outputs": [
        {
          "output_type": "stream",
          "text": [
            "/usr/local/lib/python3.6/dist-packages/ipykernel_launcher.py:8: H5pyDeprecationWarning: The default file mode will change to 'r' (read-only) in h5py 3.0. To suppress this warning, pass the mode you need to h5py.File(), or set the global default h5.get_config().default_file_mode, or set the environment variable H5PY_DEFAULT_READONLY=1. Available modes are: 'r', 'r+', 'w', 'w-'/'x', 'a'. See the docs for details.\n",
            "  \n"
          ],
          "name": "stderr"
        },
        {
          "output_type": "stream",
          "text": [
            "Classification accuracy: 2.1745908028059238\n"
          ],
          "name": "stdout"
        }
      ]
    },
    {
      "cell_type": "markdown",
      "metadata": {
        "id": "UCVRTm0vxgNK"
      },
      "source": [
        "# Bad net performance on clean testing data"
      ]
    },
    {
      "cell_type": "code",
      "metadata": {
        "id": "TuAfadZCX6v1",
        "colab": {
          "base_uri": "https://localhost:8080/"
        },
        "outputId": "7149edf0-4b6c-4406-e2fb-fc52595b3838"
      },
      "source": [
        "x_test_data, y_test_data = data_loader(test_data)\r\n",
        "x_test_data = data_process(x_test_data)\r\n",
        "\r\n",
        "clean_label_p = np.argmax(bd_net.predict(x_test_data), axis=1)\r\n",
        "class_accu = np.mean(np.equal(clean_label_p, y_test_data))*100\r\n",
        "print('Classification accuracy:', class_accu)"
      ],
      "execution_count": 123,
      "outputs": [
        {
          "output_type": "stream",
          "text": [
            "/usr/local/lib/python3.6/dist-packages/ipykernel_launcher.py:8: H5pyDeprecationWarning: The default file mode will change to 'r' (read-only) in h5py 3.0. To suppress this warning, pass the mode you need to h5py.File(), or set the global default h5.get_config().default_file_mode, or set the environment variable H5PY_DEFAULT_READONLY=1. Available modes are: 'r', 'r+', 'w', 'w-'/'x', 'a'. See the docs for details.\n",
            "  \n"
          ],
          "name": "stderr"
        },
        {
          "output_type": "stream",
          "text": [
            "Classification accuracy: 97.77864380358535\n"
          ],
          "name": "stdout"
        }
      ]
    },
    {
      "cell_type": "markdown",
      "metadata": {
        "id": "vEgXoJE7xm_W"
      },
      "source": [
        "# New model performance on clean testing data"
      ]
    },
    {
      "cell_type": "code",
      "metadata": {
        "id": "03yY3fi0ccDC",
        "colab": {
          "base_uri": "https://localhost:8080/"
        },
        "outputId": "cfce2665-42f1-4a1c-e087-787092da793c"
      },
      "source": [
        "x_test_data, y_test_data = data_loader(test_data)\r\n",
        "x_test_data = data_process(x_test_data)\r\n",
        "\r\n",
        "clean_label_p = np.argmax(my_model.predict(x_test_data), axis=1)\r\n",
        "class_accu = np.mean(np.equal(clean_label_p, y_test_data))*100\r\n",
        "print('Classification accuracy:', class_accu)"
      ],
      "execution_count": 124,
      "outputs": [
        {
          "output_type": "stream",
          "text": [
            "/usr/local/lib/python3.6/dist-packages/ipykernel_launcher.py:8: H5pyDeprecationWarning: The default file mode will change to 'r' (read-only) in h5py 3.0. To suppress this warning, pass the mode you need to h5py.File(), or set the global default h5.get_config().default_file_mode, or set the environment variable H5PY_DEFAULT_READONLY=1. Available modes are: 'r', 'r+', 'w', 'w-'/'x', 'a'. See the docs for details.\n",
            "  \n"
          ],
          "name": "stderr"
        },
        {
          "output_type": "stream",
          "text": [
            "Classification accuracy: 85.22213561964148\n"
          ],
          "name": "stdout"
        }
      ]
    },
    {
      "cell_type": "markdown",
      "metadata": {
        "id": "7RmE-6B8yJUh"
      },
      "source": [
        "# Create new testing data set that combine the test data and posion data with N+1 as posion data label"
      ]
    },
    {
      "cell_type": "code",
      "metadata": {
        "id": "aeSa50bGfC7Z"
      },
      "source": [
        "y_posion_label = np.ones(len(y_posion_data))\r\n",
        "y_posion_label = [x * 1283 for x in y_posion_label]\r\n",
        "x_mix = np.concatenate((x_test_data, x_posion_data), axis=0)\r\n",
        "y_mix = np.concatenate((y_test_data, y_posion_label), axis=0)"
      ],
      "execution_count": 125,
      "outputs": []
    },
    {
      "cell_type": "markdown",
      "metadata": {
        "id": "37VX4hIqzS_i"
      },
      "source": [
        "# Using the differ of bad net prediction and new model prediction to determine whether or not the input is backdoored, new model performance on mix testing data"
      ]
    },
    {
      "cell_type": "code",
      "metadata": {
        "id": "aiK6yph8SXPo",
        "colab": {
          "base_uri": "https://localhost:8080/"
        },
        "outputId": "e456348c-bb2d-4f89-a0b9-4e4ed2730fd9"
      },
      "source": [
        "badnet_label_p = np.argmax(bd_net.predict(x_mix), axis=1)\r\n",
        "clean_label_p = np.argmax(my_model.predict(x_mix), axis=1)\r\n",
        "\r\n",
        "for i in range(len(clean_label_p)):\r\n",
        "  if badnet_label_p[i] != clean_label_p[i]:\r\n",
        "    clean_label_p[i] = 1283\r\n",
        "\r\n",
        "class_accu = np.mean(np.equal(clean_label_p, y_mix))*100\r\n",
        "print('Classification accuracy:', class_accu)"
      ],
      "execution_count": 126,
      "outputs": [
        {
          "output_type": "stream",
          "text": [
            "Classification accuracy: 91.1925175370226\n"
          ],
          "name": "stdout"
        }
      ]
    },
    {
      "cell_type": "markdown",
      "metadata": {
        "id": "cTHsO4X31Kr9"
      },
      "source": [
        "# Bad net performance on mix testing data"
      ]
    },
    {
      "cell_type": "code",
      "metadata": {
        "colab": {
          "base_uri": "https://localhost:8080/"
        },
        "id": "IlnjsIwItnXQ",
        "outputId": "30277ab8-432a-4fde-eae4-c0159774cf3f"
      },
      "source": [
        "class_accu = np.mean(np.equal(badnet_label_p, y_mix))*100\r\n",
        "print('Classification accuracy:', class_accu)"
      ],
      "execution_count": 127,
      "outputs": [
        {
          "output_type": "stream",
          "text": [
            "Classification accuracy: 48.88932190179268\n"
          ],
          "name": "stdout"
        }
      ]
    },
    {
      "cell_type": "markdown",
      "metadata": {
        "id": "Bn8hsL7pG890"
      },
      "source": [
        "# Save the model\r\n"
      ]
    },
    {
      "cell_type": "code",
      "metadata": {
        "id": "EOlIY6g3G8cQ"
      },
      "source": [
        "my_model.save('sunglasses_new_model.h5') "
      ],
      "execution_count": 131,
      "outputs": []
    },
    {
      "cell_type": "markdown",
      "metadata": {
        "id": "Dm0fhNRs1oM2"
      },
      "source": [
        "# Another approach to determine whether or not the input is backdoored, by checking the average max value of each prediction on test data and position data, since the poison data will have lower average max value of prediction, we can use find a threshold to distinguish the input type"
      ]
    },
    {
      "cell_type": "code",
      "metadata": {
        "id": "Aa2WEdWZIIhT",
        "colab": {
          "base_uri": "https://localhost:8080/"
        },
        "outputId": "22ee0abd-0ca9-42e7-aac7-4c81fab879e7"
      },
      "source": [
        "number = 0\r\n",
        "good_label = np.max(my_model.predict(x_test_data), axis=1)\r\n",
        "print(np.mean(good_label))\r\n",
        "for label in good_label:\r\n",
        "  if label >= 0.99:\r\n",
        "    number += 1\r\n",
        "print(number/len(good_label))"
      ],
      "execution_count": 129,
      "outputs": [
        {
          "output_type": "stream",
          "text": [
            "0.91869336\n",
            "0.6343725643024162\n"
          ],
          "name": "stdout"
        }
      ]
    },
    {
      "cell_type": "code",
      "metadata": {
        "id": "vfiEiQDqRFDo",
        "colab": {
          "base_uri": "https://localhost:8080/"
        },
        "outputId": "8c6a63fd-ad1d-421f-9fd7-d14cef9ef947"
      },
      "source": [
        "number = 0\r\n",
        "bad_label = np.max(my_model.predict(x_posion_data), axis=1)\r\n",
        "np.mean(bad_label)\r\n",
        "print(np.mean(bad_label))\r\n",
        "for label in bad_label:\r\n",
        "  if label < 0.99:\r\n",
        "    number += 1\r\n",
        "print(number/len(bad_label))"
      ],
      "execution_count": 130,
      "outputs": [
        {
          "output_type": "stream",
          "text": [
            "0.75410485\n",
            "0.8359314107560405\n"
          ],
          "name": "stdout"
        }
      ]
    }
  ]
}